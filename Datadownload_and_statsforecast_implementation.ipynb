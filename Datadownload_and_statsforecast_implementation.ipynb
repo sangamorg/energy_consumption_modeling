{
 "cells": [
  {
   "cell_type": "code",
   "execution_count": null,
   "id": "82b71424-ac9a-447f-8ddb-8d4c75645dd6",
   "metadata": {},
   "outputs": [],
   "source": [
    "## asynchronously pull the electricity consumption data from 2020-02-02 to 2024-10-31\n",
    "## Idea is to create a predective model for a day or two from the available dataset\n",
    "## try to include all the locations and save the data into cloud and model it."
   ]
  },
  {
   "cell_type": "code",
   "execution_count": 143,
   "id": "d5846e3f-3eca-4670-b5eb-c2113444ca94",
   "metadata": {},
   "outputs": [],
   "source": [
    "#!pip install requests"
   ]
  },
  {
   "cell_type": "code",
   "execution_count": 41,
   "id": "81799b50-c031-472b-8cfc-cfe3f743ec74",
   "metadata": {},
   "outputs": [],
   "source": [
    "import warnings\n",
    "warnings.filterwarnings('ignore')"
   ]
  },
  {
   "cell_type": "code",
   "execution_count": null,
   "id": "2af897d2-3938-4357-bb32-21dba5f6b0d0",
   "metadata": {},
   "outputs": [],
   "source": [
    "!pip install scikit-learn"
   ]
  },
  {
   "cell_type": "code",
   "execution_count": 85,
   "id": "a6e917fc-8736-4970-ba74-7f3c8524f42f",
   "metadata": {},
   "outputs": [],
   "source": [
    "import matplotlib.pyplot as plt\n",
    "from sklearn.metrics import mean_squared_error\n",
    "import numpy as np"
   ]
  },
  {
   "cell_type": "code",
   "execution_count": 87,
   "id": "6fa0d98d-0eef-4af9-944b-a2a68fc0d9e8",
   "metadata": {},
   "outputs": [],
   "source": [
    "#!pip install matplotlib"
   ]
  },
  {
   "cell_type": "code",
   "execution_count": 84,
   "id": "efd8fdde-7929-4d5b-85f8-5682217d510b",
   "metadata": {},
   "outputs": [],
   "source": [
    "import os\n",
    "import json\n",
    "import requests\n",
    "location_filepath=\"locations.json\"\n",
    "if not os.path.exists(location_filepath):\n",
    "    with open(location_filepath,\"w\",encoding=\"utf-8\") as file:\n",
    "        response=requests.get(\"https://helsinki-openapi.nuuka.cloud/api/v1.0/Property/List\")\n",
    "        data=response.text\n",
    "        json.dump(data,file)"
   ]
  },
  {
   "cell_type": "code",
   "execution_count": 88,
   "id": "4a066f18-d55a-4e13-a41b-f9dd162284d5",
   "metadata": {},
   "outputs": [],
   "source": [
    "#!pip install pandas"
   ]
  },
  {
   "cell_type": "code",
   "execution_count": 89,
   "id": "ababb8f0-296b-4feb-9131-58636b1a08dd",
   "metadata": {},
   "outputs": [],
   "source": [
    "import pandas as pd"
   ]
  },
  {
   "cell_type": "code",
   "execution_count": 90,
   "id": "d8112282-b576-4106-b2f7-22ae67fc3193",
   "metadata": {},
   "outputs": [],
   "source": [
    "with open(location_filepath, \"r\", encoding=\"utf-8\") as file:\n",
    "    # Load the stringified JSON array\n",
    "    json_content = file.read()\n",
    "    # Parse the string into a Python object\n",
    "    data = json.loads(json_content)\n",
    "    data=json.loads(data)\n",
    "\n",
    "# Create a pandas DataFrame\n",
    "df = pd.DataFrame(data)"
   ]
  },
  {
   "cell_type": "code",
   "execution_count": 91,
   "id": "b155625e-422b-4a74-9f9c-bbbf48ad7be5",
   "metadata": {},
   "outputs": [
    {
     "data": {
      "text/html": [
       "<div>\n",
       "<style scoped>\n",
       "    .dataframe tbody tr th:only-of-type {\n",
       "        vertical-align: middle;\n",
       "    }\n",
       "\n",
       "    .dataframe tbody tr th {\n",
       "        vertical-align: top;\n",
       "    }\n",
       "\n",
       "    .dataframe thead th {\n",
       "        text-align: right;\n",
       "    }\n",
       "</style>\n",
       "<table border=\"1\" class=\"dataframe\">\n",
       "  <thead>\n",
       "    <tr style=\"text-align: right;\">\n",
       "      <th></th>\n",
       "      <th>locationName</th>\n",
       "      <th>propertyName</th>\n",
       "      <th>propertyCode</th>\n",
       "    </tr>\n",
       "  </thead>\n",
       "  <tbody>\n",
       "    <tr>\n",
       "      <th>0</th>\n",
       "      <td>1000 Hakaniemen kauppahalli</td>\n",
       "      <td>1000 Hakaniemen kauppahalli</td>\n",
       "      <td>091-011-9902-0101</td>\n",
       "    </tr>\n",
       "    <tr>\n",
       "      <th>1</th>\n",
       "      <td>1001 Hietalahden kauppahalli</td>\n",
       "      <td>1001 Hietalahden kauppahalli</td>\n",
       "      <td>091-004-9902-0008</td>\n",
       "    </tr>\n",
       "    <tr>\n",
       "      <th>2</th>\n",
       "      <td>1002 Vanha kauppahalli</td>\n",
       "      <td>1002 Vanha kauppahalli</td>\n",
       "      <td>091-003-9906-0101</td>\n",
       "    </tr>\n",
       "    <tr>\n",
       "      <th>3</th>\n",
       "      <td>1037 Vuotalo</td>\n",
       "      <td>1037 Vuotalo</td>\n",
       "      <td>091-054-0179-0003</td>\n",
       "    </tr>\n",
       "    <tr>\n",
       "      <th>4</th>\n",
       "      <td>1507 Suutarilan monitoimitalo/ala-aste ja Lpk ...</td>\n",
       "      <td>1507 Suutarilan monitoimitalo/ala-aste ja Lpk ...</td>\n",
       "      <td>091-040-0024-0003</td>\n",
       "    </tr>\n",
       "  </tbody>\n",
       "</table>\n",
       "</div>"
      ],
      "text/plain": [
       "                                        locationName  \\\n",
       "0                        1000 Hakaniemen kauppahalli   \n",
       "1                       1001 Hietalahden kauppahalli   \n",
       "2                             1002 Vanha kauppahalli   \n",
       "3                                       1037 Vuotalo   \n",
       "4  1507 Suutarilan monitoimitalo/ala-aste ja Lpk ...   \n",
       "\n",
       "                                        propertyName       propertyCode  \n",
       "0                        1000 Hakaniemen kauppahalli  091-011-9902-0101  \n",
       "1                       1001 Hietalahden kauppahalli  091-004-9902-0008  \n",
       "2                             1002 Vanha kauppahalli  091-003-9906-0101  \n",
       "3                                       1037 Vuotalo  091-054-0179-0003  \n",
       "4  1507 Suutarilan monitoimitalo/ala-aste ja Lpk ...  091-040-0024-0003  "
      ]
     },
     "execution_count": 91,
     "metadata": {},
     "output_type": "execute_result"
    }
   ],
   "source": [
    "df.head()"
   ]
  },
  {
   "cell_type": "code",
   "execution_count": 92,
   "id": "b78f55a3-ae7b-4486-970c-e33fd4222bd3",
   "metadata": {},
   "outputs": [
    {
     "data": {
      "text/html": [
       "<div>\n",
       "<style scoped>\n",
       "    .dataframe tbody tr th:only-of-type {\n",
       "        vertical-align: middle;\n",
       "    }\n",
       "\n",
       "    .dataframe tbody tr th {\n",
       "        vertical-align: top;\n",
       "    }\n",
       "\n",
       "    .dataframe thead th {\n",
       "        text-align: right;\n",
       "    }\n",
       "</style>\n",
       "<table border=\"1\" class=\"dataframe\">\n",
       "  <thead>\n",
       "    <tr style=\"text-align: right;\">\n",
       "      <th></th>\n",
       "      <th>locationName</th>\n",
       "      <th>propertyName</th>\n",
       "      <th>propertyCode</th>\n",
       "    </tr>\n",
       "  </thead>\n",
       "  <tbody>\n",
       "    <tr>\n",
       "      <th>0</th>\n",
       "      <td>1000 Hakaniemen kauppahalli</td>\n",
       "      <td>1000 Hakaniemen kauppahalli</td>\n",
       "      <td>091-011-9902-0101</td>\n",
       "    </tr>\n",
       "    <tr>\n",
       "      <th>1</th>\n",
       "      <td>1001 Hietalahden kauppahalli</td>\n",
       "      <td>1001 Hietalahden kauppahalli</td>\n",
       "      <td>091-004-9902-0008</td>\n",
       "    </tr>\n",
       "    <tr>\n",
       "      <th>2</th>\n",
       "      <td>1002 Vanha kauppahalli</td>\n",
       "      <td>1002 Vanha kauppahalli</td>\n",
       "      <td>091-003-9906-0101</td>\n",
       "    </tr>\n",
       "    <tr>\n",
       "      <th>3</th>\n",
       "      <td>1037 Vuotalo</td>\n",
       "      <td>1037 Vuotalo</td>\n",
       "      <td>091-054-0179-0003</td>\n",
       "    </tr>\n",
       "    <tr>\n",
       "      <th>4</th>\n",
       "      <td>1507 Suutarilan monitoimitalo/ala-aste ja Lpk ...</td>\n",
       "      <td>1507 Suutarilan monitoimitalo/ala-aste ja Lpk ...</td>\n",
       "      <td>091-040-0024-0003</td>\n",
       "    </tr>\n",
       "  </tbody>\n",
       "</table>\n",
       "</div>"
      ],
      "text/plain": [
       "                                        locationName  \\\n",
       "0                        1000 Hakaniemen kauppahalli   \n",
       "1                       1001 Hietalahden kauppahalli   \n",
       "2                             1002 Vanha kauppahalli   \n",
       "3                                       1037 Vuotalo   \n",
       "4  1507 Suutarilan monitoimitalo/ala-aste ja Lpk ...   \n",
       "\n",
       "                                        propertyName       propertyCode  \n",
       "0                        1000 Hakaniemen kauppahalli  091-011-9902-0101  \n",
       "1                       1001 Hietalahden kauppahalli  091-004-9902-0008  \n",
       "2                             1002 Vanha kauppahalli  091-003-9906-0101  \n",
       "3                                       1037 Vuotalo  091-054-0179-0003  \n",
       "4  1507 Suutarilan monitoimitalo/ala-aste ja Lpk ...  091-040-0024-0003  "
      ]
     },
     "execution_count": 92,
     "metadata": {},
     "output_type": "execute_result"
    }
   ],
   "source": [
    "df.head()"
   ]
  },
  {
   "cell_type": "code",
   "execution_count": 93,
   "id": "b9ada88d-0039-4925-9188-f3e0266bc2ad",
   "metadata": {},
   "outputs": [],
   "source": [
    "LocationName=list(df[\"locationName\"][0:4])"
   ]
  },
  {
   "cell_type": "code",
   "execution_count": 94,
   "id": "d14336e7-2887-4288-9360-bff759ff60b0",
   "metadata": {},
   "outputs": [],
   "source": [
    "dataFileNames = [f\"{item.replace(' ', '_')}.json\" for item in LocationName]"
   ]
  },
  {
   "cell_type": "code",
   "execution_count": 95,
   "id": "b59d5892-9d1d-4ede-8c2d-a1b00f97b5ad",
   "metadata": {},
   "outputs": [],
   "source": [
    "##\n",
    "locationSearchString=[f\"{item.replace(' ', '%20', )}\" for item in LocationName]"
   ]
  },
  {
   "cell_type": "code",
   "execution_count": 44,
   "id": "226b1848-a541-4a86-995c-4ca0155804ea",
   "metadata": {},
   "outputs": [
    {
     "data": {
      "text/plain": [
       "['1000%20Hakaniemen%20kauppahalli',\n",
       " '1001%20Hietalahden%20kauppahalli',\n",
       " '1002%20Vanha%20kauppahalli',\n",
       " '1037%20Vuotalo']"
      ]
     },
     "execution_count": 44,
     "metadata": {},
     "output_type": "execute_result"
    }
   ],
   "source": [
    "## locationSearchString"
   ]
  },
  {
   "cell_type": "code",
   "execution_count": 96,
   "id": "6809b1a8-8be3-4766-bb9f-998199c6ca32",
   "metadata": {},
   "outputs": [
    {
     "data": {
      "text/plain": [
       "['1000_Hakaniemen_kauppahalli.json',\n",
       " '1001_Hietalahden_kauppahalli.json',\n",
       " '1002_Vanha_kauppahalli.json',\n",
       " '1037_Vuotalo.json']"
      ]
     },
     "execution_count": 96,
     "metadata": {},
     "output_type": "execute_result"
    }
   ],
   "source": [
    "dataFileNames"
   ]
  },
  {
   "cell_type": "code",
   "execution_count": 97,
   "id": "de0a77c7-d745-4b81-a63c-e9052de27305",
   "metadata": {},
   "outputs": [],
   "source": [
    "reporting_group=\"Electricity\"\n",
    "start_time=\"2020-01-01\"\n",
    "end_time=\"2024-10-31\"\n",
    "version=\"v1.0\""
   ]
  },
  {
   "cell_type": "code",
   "execution_count": 98,
   "id": "903796d4-37ff-46de-8f13-008450fdead9",
   "metadata": {},
   "outputs": [],
   "source": [
    "BASE_URL = \"https://helsinki-openapi.nuuka.cloud/api/v1.0/EnergyData/Hourly/ListByProperty\"\n",
    "output_dir = \"FourlocationData20200101_20241031\"\n",
    "os.makedirs(output_dir, exist_ok=True)\n"
   ]
  },
  {
   "cell_type": "code",
   "execution_count": 142,
   "id": "34e37b9b-2258-4768-af22-c8f6f0dad210",
   "metadata": {},
   "outputs": [],
   "source": [
    "#!pip install aiohttp"
   ]
  },
  {
   "cell_type": "code",
   "execution_count": 105,
   "id": "387c6b6c-f665-40f7-b4e7-011bdc500db0",
   "metadata": {},
   "outputs": [],
   "source": [
    "import aiohttp\n",
    "import asyncio\n",
    "from urllib.parse import quote"
   ]
  },
  {
   "cell_type": "code",
   "execution_count": 106,
   "id": "7c35b452-f05c-4678-908a-153120c46579",
   "metadata": {},
   "outputs": [],
   "source": [
    "async def fetch_data(session, url, filename):\n",
    "    async with session.get(url) as response:\n",
    "        data = await response.json()\n",
    "        with open(filename, 'w', encoding='utf-8') as f:\n",
    "            json.dump(data, f, ensure_ascii=False)\n",
    "        print(f\"Saved data to {filename}\")"
   ]
  },
  {
   "cell_type": "code",
   "execution_count": 107,
   "id": "cf09a5f2-3a20-4814-932b-9ffacf4b4512",
   "metadata": {},
   "outputs": [],
   "source": [
    "global count\n",
    "count=0"
   ]
  },
  {
   "cell_type": "code",
   "execution_count": 108,
   "id": "84f82a95-282c-4341-9eec-c6e2025cfae3",
   "metadata": {},
   "outputs": [
    {
     "name": "stdout",
     "output_type": "stream",
     "text": [
      "Saved data to FourlocationData20200101_20241031\\1000_Hakaniemen_kauppahalli.json\n",
      "Saved data to FourlocationData20200101_20241031\\1001_Hietalahden_kauppahalli.json\n",
      "Saved data to FourlocationData20200101_20241031\\1002_Vanha_kauppahalli.json\n",
      "Saved data to FourlocationData20200101_20241031\\1037_Vuotalo.json\n"
     ]
    }
   ],
   "source": [
    "async def make_requests():\n",
    "    async with aiohttp.ClientSession() as session:\n",
    "        for location in LocationName:\n",
    "            encoded_search_string = quote(location)\n",
    "            url = f\"{BASE_URL}?Record=LocationName&SearchString={encoded_search_string}&ReportingGroup={reporting_group}&StartTime={start_time}&EndTime={end_time}\"\n",
    "            filename = os.path.join(output_dir,f\"{location.replace(' ', '_')}.json\")\n",
    "            await fetch_data(session, url, filename)\n",
    "\n",
    "await make_requests()"
   ]
  },
  {
   "cell_type": "code",
   "execution_count": 155,
   "id": "e08d6ba6-3538-4eaf-99cb-1bf00f32a00f",
   "metadata": {},
   "outputs": [],
   "source": [
    "import pandas as pd\n",
    "k_df=pd.read_json(\"FourlocationData20200101_20241031/1000_Hakaniemen_kauppahalli.json\")"
   ]
  },
  {
   "cell_type": "code",
   "execution_count": 156,
   "id": "b86736c3-dced-42a7-b76f-c2a97267375c",
   "metadata": {},
   "outputs": [
    {
     "data": {
      "text/html": [
       "<div>\n",
       "<style scoped>\n",
       "    .dataframe tbody tr th:only-of-type {\n",
       "        vertical-align: middle;\n",
       "    }\n",
       "\n",
       "    .dataframe tbody tr th {\n",
       "        vertical-align: top;\n",
       "    }\n",
       "\n",
       "    .dataframe thead th {\n",
       "        text-align: right;\n",
       "    }\n",
       "</style>\n",
       "<table border=\"1\" class=\"dataframe\">\n",
       "  <thead>\n",
       "    <tr style=\"text-align: right;\">\n",
       "      <th></th>\n",
       "      <th>timestamp</th>\n",
       "      <th>reportingGroup</th>\n",
       "      <th>locationName</th>\n",
       "      <th>value</th>\n",
       "      <th>unit</th>\n",
       "    </tr>\n",
       "  </thead>\n",
       "  <tbody>\n",
       "    <tr>\n",
       "      <th>0</th>\n",
       "      <td>2020-01-01 00:00:00</td>\n",
       "      <td>Electricity</td>\n",
       "      <td>1000 Hakaniemen kauppahalli</td>\n",
       "      <td>0.06</td>\n",
       "      <td>kWh</td>\n",
       "    </tr>\n",
       "    <tr>\n",
       "      <th>1</th>\n",
       "      <td>2020-01-01 01:00:00</td>\n",
       "      <td>Electricity</td>\n",
       "      <td>1000 Hakaniemen kauppahalli</td>\n",
       "      <td>0.06</td>\n",
       "      <td>kWh</td>\n",
       "    </tr>\n",
       "    <tr>\n",
       "      <th>2</th>\n",
       "      <td>2020-01-01 02:00:00</td>\n",
       "      <td>Electricity</td>\n",
       "      <td>1000 Hakaniemen kauppahalli</td>\n",
       "      <td>0.06</td>\n",
       "      <td>kWh</td>\n",
       "    </tr>\n",
       "    <tr>\n",
       "      <th>3</th>\n",
       "      <td>2020-01-01 03:00:00</td>\n",
       "      <td>Electricity</td>\n",
       "      <td>1000 Hakaniemen kauppahalli</td>\n",
       "      <td>0.07</td>\n",
       "      <td>kWh</td>\n",
       "    </tr>\n",
       "    <tr>\n",
       "      <th>4</th>\n",
       "      <td>2020-01-01 04:00:00</td>\n",
       "      <td>Electricity</td>\n",
       "      <td>1000 Hakaniemen kauppahalli</td>\n",
       "      <td>0.06</td>\n",
       "      <td>kWh</td>\n",
       "    </tr>\n",
       "  </tbody>\n",
       "</table>\n",
       "</div>"
      ],
      "text/plain": [
       "            timestamp reportingGroup                 locationName  value unit\n",
       "0 2020-01-01 00:00:00    Electricity  1000 Hakaniemen kauppahalli   0.06  kWh\n",
       "1 2020-01-01 01:00:00    Electricity  1000 Hakaniemen kauppahalli   0.06  kWh\n",
       "2 2020-01-01 02:00:00    Electricity  1000 Hakaniemen kauppahalli   0.06  kWh\n",
       "3 2020-01-01 03:00:00    Electricity  1000 Hakaniemen kauppahalli   0.07  kWh\n",
       "4 2020-01-01 04:00:00    Electricity  1000 Hakaniemen kauppahalli   0.06  kWh"
      ]
     },
     "execution_count": 156,
     "metadata": {},
     "output_type": "execute_result"
    }
   ],
   "source": [
    "k_df.head()"
   ]
  },
  {
   "cell_type": "code",
   "execution_count": 157,
   "id": "a9bcdd19-5de8-4a4b-8123-1760ba66cf22",
   "metadata": {},
   "outputs": [
    {
     "data": {
      "text/html": [
       "<div>\n",
       "<style scoped>\n",
       "    .dataframe tbody tr th:only-of-type {\n",
       "        vertical-align: middle;\n",
       "    }\n",
       "\n",
       "    .dataframe tbody tr th {\n",
       "        vertical-align: top;\n",
       "    }\n",
       "\n",
       "    .dataframe thead th {\n",
       "        text-align: right;\n",
       "    }\n",
       "</style>\n",
       "<table border=\"1\" class=\"dataframe\">\n",
       "  <thead>\n",
       "    <tr style=\"text-align: right;\">\n",
       "      <th></th>\n",
       "      <th>timestamp</th>\n",
       "      <th>reportingGroup</th>\n",
       "      <th>locationName</th>\n",
       "      <th>value</th>\n",
       "      <th>unit</th>\n",
       "    </tr>\n",
       "  </thead>\n",
       "  <tbody>\n",
       "    <tr>\n",
       "      <th>0</th>\n",
       "      <td>2020-01-01 00:00:00</td>\n",
       "      <td>Electricity</td>\n",
       "      <td>1000 Hakaniemen kauppahalli</td>\n",
       "      <td>0.06</td>\n",
       "      <td>kWh</td>\n",
       "    </tr>\n",
       "    <tr>\n",
       "      <th>1</th>\n",
       "      <td>2020-01-01 01:00:00</td>\n",
       "      <td>Electricity</td>\n",
       "      <td>1000 Hakaniemen kauppahalli</td>\n",
       "      <td>0.06</td>\n",
       "      <td>kWh</td>\n",
       "    </tr>\n",
       "    <tr>\n",
       "      <th>2</th>\n",
       "      <td>2020-01-01 02:00:00</td>\n",
       "      <td>Electricity</td>\n",
       "      <td>1000 Hakaniemen kauppahalli</td>\n",
       "      <td>0.06</td>\n",
       "      <td>kWh</td>\n",
       "    </tr>\n",
       "    <tr>\n",
       "      <th>3</th>\n",
       "      <td>2020-01-01 03:00:00</td>\n",
       "      <td>Electricity</td>\n",
       "      <td>1000 Hakaniemen kauppahalli</td>\n",
       "      <td>0.07</td>\n",
       "      <td>kWh</td>\n",
       "    </tr>\n",
       "    <tr>\n",
       "      <th>4</th>\n",
       "      <td>2020-01-01 04:00:00</td>\n",
       "      <td>Electricity</td>\n",
       "      <td>1000 Hakaniemen kauppahalli</td>\n",
       "      <td>0.06</td>\n",
       "      <td>kWh</td>\n",
       "    </tr>\n",
       "  </tbody>\n",
       "</table>\n",
       "</div>"
      ],
      "text/plain": [
       "            timestamp reportingGroup                 locationName  value unit\n",
       "0 2020-01-01 00:00:00    Electricity  1000 Hakaniemen kauppahalli   0.06  kWh\n",
       "1 2020-01-01 01:00:00    Electricity  1000 Hakaniemen kauppahalli   0.06  kWh\n",
       "2 2020-01-01 02:00:00    Electricity  1000 Hakaniemen kauppahalli   0.06  kWh\n",
       "3 2020-01-01 03:00:00    Electricity  1000 Hakaniemen kauppahalli   0.07  kWh\n",
       "4 2020-01-01 04:00:00    Electricity  1000 Hakaniemen kauppahalli   0.06  kWh"
      ]
     },
     "execution_count": 157,
     "metadata": {},
     "output_type": "execute_result"
    }
   ],
   "source": [
    "k_df.head()"
   ]
  },
  {
   "cell_type": "code",
   "execution_count": 158,
   "id": "a89a3ac3-4dc9-4751-a395-55b384a13054",
   "metadata": {},
   "outputs": [],
   "source": [
    "k_df.set_index(\"timestamp\",inplace=True)"
   ]
  },
  {
   "cell_type": "code",
   "execution_count": 159,
   "id": "ab96d9af-b2a9-48c3-9aee-0b138e9c1a6b",
   "metadata": {},
   "outputs": [
    {
     "data": {
      "text/html": [
       "<div>\n",
       "<style scoped>\n",
       "    .dataframe tbody tr th:only-of-type {\n",
       "        vertical-align: middle;\n",
       "    }\n",
       "\n",
       "    .dataframe tbody tr th {\n",
       "        vertical-align: top;\n",
       "    }\n",
       "\n",
       "    .dataframe thead th {\n",
       "        text-align: right;\n",
       "    }\n",
       "</style>\n",
       "<table border=\"1\" class=\"dataframe\">\n",
       "  <thead>\n",
       "    <tr style=\"text-align: right;\">\n",
       "      <th></th>\n",
       "      <th>reportingGroup</th>\n",
       "      <th>locationName</th>\n",
       "      <th>value</th>\n",
       "      <th>unit</th>\n",
       "    </tr>\n",
       "    <tr>\n",
       "      <th>timestamp</th>\n",
       "      <th></th>\n",
       "      <th></th>\n",
       "      <th></th>\n",
       "      <th></th>\n",
       "    </tr>\n",
       "  </thead>\n",
       "  <tbody>\n",
       "    <tr>\n",
       "      <th>2020-01-01 00:00:00</th>\n",
       "      <td>Electricity</td>\n",
       "      <td>1000 Hakaniemen kauppahalli</td>\n",
       "      <td>0.06</td>\n",
       "      <td>kWh</td>\n",
       "    </tr>\n",
       "    <tr>\n",
       "      <th>2020-01-01 01:00:00</th>\n",
       "      <td>Electricity</td>\n",
       "      <td>1000 Hakaniemen kauppahalli</td>\n",
       "      <td>0.06</td>\n",
       "      <td>kWh</td>\n",
       "    </tr>\n",
       "    <tr>\n",
       "      <th>2020-01-01 02:00:00</th>\n",
       "      <td>Electricity</td>\n",
       "      <td>1000 Hakaniemen kauppahalli</td>\n",
       "      <td>0.06</td>\n",
       "      <td>kWh</td>\n",
       "    </tr>\n",
       "    <tr>\n",
       "      <th>2020-01-01 03:00:00</th>\n",
       "      <td>Electricity</td>\n",
       "      <td>1000 Hakaniemen kauppahalli</td>\n",
       "      <td>0.07</td>\n",
       "      <td>kWh</td>\n",
       "    </tr>\n",
       "    <tr>\n",
       "      <th>2020-01-01 04:00:00</th>\n",
       "      <td>Electricity</td>\n",
       "      <td>1000 Hakaniemen kauppahalli</td>\n",
       "      <td>0.06</td>\n",
       "      <td>kWh</td>\n",
       "    </tr>\n",
       "  </tbody>\n",
       "</table>\n",
       "</div>"
      ],
      "text/plain": [
       "                    reportingGroup                 locationName  value unit\n",
       "timestamp                                                                  \n",
       "2020-01-01 00:00:00    Electricity  1000 Hakaniemen kauppahalli   0.06  kWh\n",
       "2020-01-01 01:00:00    Electricity  1000 Hakaniemen kauppahalli   0.06  kWh\n",
       "2020-01-01 02:00:00    Electricity  1000 Hakaniemen kauppahalli   0.06  kWh\n",
       "2020-01-01 03:00:00    Electricity  1000 Hakaniemen kauppahalli   0.07  kWh\n",
       "2020-01-01 04:00:00    Electricity  1000 Hakaniemen kauppahalli   0.06  kWh"
      ]
     },
     "execution_count": 159,
     "metadata": {},
     "output_type": "execute_result"
    }
   ],
   "source": [
    "k_df.head()"
   ]
  },
  {
   "cell_type": "code",
   "execution_count": 160,
   "id": "d05abb60-cfed-4158-b246-de9abf32b075",
   "metadata": {},
   "outputs": [
    {
     "name": "stdout",
     "output_type": "stream",
     "text": [
      "Number of missing timestamps: 5\n",
      "Missing hourly timestamps:\n",
      "DatetimeIndex(['2020-03-29 03:00:00', '2021-03-28 03:00:00',\n",
      "               '2022-03-27 03:00:00', '2023-03-26 03:00:00',\n",
      "               '2024-03-31 03:00:00'],\n",
      "              dtype='datetime64[ns]', freq=None)\n"
     ]
    }
   ],
   "source": [
    "import pandas as pd\n",
    "\n",
    "# Ensure the index is a DatetimeIndex\n",
    "k_df.index = pd.to_datetime(k_df.index)\n",
    "\n",
    "# Generate the full range of expected hourly timestamps\n",
    "full_range = pd.date_range(start=k_df.index.min(), end=k_df.index.max(), freq=\"H\")\n",
    "\n",
    "# Find the missing timestamps\n",
    "missing_timestamps = full_range.difference(k_df.index)\n",
    "\n",
    "# Display missing timestamps\n",
    "if missing_timestamps.empty:\n",
    "    print(\"No missing hourly data.\")\n",
    "else:\n",
    "    print(f\"Number of missing timestamps: {len(missing_timestamps)}\")\n",
    "    print(\"Missing hourly timestamps:\")\n",
    "    print(missing_timestamps)\n"
   ]
  },
  {
   "cell_type": "code",
   "execution_count": 161,
   "id": "ad3b8fad-8962-4f7b-9a00-17237fb666f0",
   "metadata": {},
   "outputs": [],
   "source": [
    "from statsforecast import StatsForecast\n",
    "from statsforecast.models import AutoARIMA\n"
   ]
  },
  {
   "cell_type": "code",
   "execution_count": 162,
   "id": "391c6845-0a69-4e6f-b7bc-801292b57936",
   "metadata": {},
   "outputs": [
    {
     "data": {
      "text/html": [
       "<div>\n",
       "<style scoped>\n",
       "    .dataframe tbody tr th:only-of-type {\n",
       "        vertical-align: middle;\n",
       "    }\n",
       "\n",
       "    .dataframe tbody tr th {\n",
       "        vertical-align: top;\n",
       "    }\n",
       "\n",
       "    .dataframe thead th {\n",
       "        text-align: right;\n",
       "    }\n",
       "</style>\n",
       "<table border=\"1\" class=\"dataframe\">\n",
       "  <thead>\n",
       "    <tr style=\"text-align: right;\">\n",
       "      <th></th>\n",
       "      <th>reportingGroup</th>\n",
       "      <th>locationName</th>\n",
       "      <th>value</th>\n",
       "      <th>unit</th>\n",
       "    </tr>\n",
       "    <tr>\n",
       "      <th>timestamp</th>\n",
       "      <th></th>\n",
       "      <th></th>\n",
       "      <th></th>\n",
       "      <th></th>\n",
       "    </tr>\n",
       "  </thead>\n",
       "  <tbody>\n",
       "    <tr>\n",
       "      <th>2020-01-01 00:00:00</th>\n",
       "      <td>Electricity</td>\n",
       "      <td>1000 Hakaniemen kauppahalli</td>\n",
       "      <td>0.06</td>\n",
       "      <td>kWh</td>\n",
       "    </tr>\n",
       "    <tr>\n",
       "      <th>2020-01-01 01:00:00</th>\n",
       "      <td>Electricity</td>\n",
       "      <td>1000 Hakaniemen kauppahalli</td>\n",
       "      <td>0.06</td>\n",
       "      <td>kWh</td>\n",
       "    </tr>\n",
       "    <tr>\n",
       "      <th>2020-01-01 02:00:00</th>\n",
       "      <td>Electricity</td>\n",
       "      <td>1000 Hakaniemen kauppahalli</td>\n",
       "      <td>0.06</td>\n",
       "      <td>kWh</td>\n",
       "    </tr>\n",
       "    <tr>\n",
       "      <th>2020-01-01 03:00:00</th>\n",
       "      <td>Electricity</td>\n",
       "      <td>1000 Hakaniemen kauppahalli</td>\n",
       "      <td>0.07</td>\n",
       "      <td>kWh</td>\n",
       "    </tr>\n",
       "    <tr>\n",
       "      <th>2020-01-01 04:00:00</th>\n",
       "      <td>Electricity</td>\n",
       "      <td>1000 Hakaniemen kauppahalli</td>\n",
       "      <td>0.06</td>\n",
       "      <td>kWh</td>\n",
       "    </tr>\n",
       "  </tbody>\n",
       "</table>\n",
       "</div>"
      ],
      "text/plain": [
       "                    reportingGroup                 locationName  value unit\n",
       "timestamp                                                                  \n",
       "2020-01-01 00:00:00    Electricity  1000 Hakaniemen kauppahalli   0.06  kWh\n",
       "2020-01-01 01:00:00    Electricity  1000 Hakaniemen kauppahalli   0.06  kWh\n",
       "2020-01-01 02:00:00    Electricity  1000 Hakaniemen kauppahalli   0.06  kWh\n",
       "2020-01-01 03:00:00    Electricity  1000 Hakaniemen kauppahalli   0.07  kWh\n",
       "2020-01-01 04:00:00    Electricity  1000 Hakaniemen kauppahalli   0.06  kWh"
      ]
     },
     "execution_count": 162,
     "metadata": {},
     "output_type": "execute_result"
    }
   ],
   "source": [
    "k_df.head()"
   ]
  },
  {
   "cell_type": "code",
   "execution_count": 163,
   "id": "cde1b92c-fdbb-41d3-a6bd-72a67acd4c63",
   "metadata": {},
   "outputs": [
    {
     "name": "stdout",
     "output_type": "stream",
     "text": [
      "Number of missing timestamps: 5\n",
      "Missing hourly timestamps:\n",
      "DatetimeIndex(['2020-03-29 03:00:00', '2021-03-28 03:00:00',\n",
      "               '2022-03-27 03:00:00', '2023-03-26 03:00:00',\n",
      "               '2024-03-31 03:00:00'],\n",
      "              dtype='datetime64[ns]', freq=None)\n",
      "                    reportingGroup                 locationName  value unit\n",
      "2020-01-01 00:00:00    Electricity  1000 Hakaniemen kauppahalli   0.06  kWh\n",
      "2020-01-01 01:00:00    Electricity  1000 Hakaniemen kauppahalli   0.06  kWh\n",
      "2020-01-01 02:00:00    Electricity  1000 Hakaniemen kauppahalli   0.06  kWh\n",
      "2020-01-01 03:00:00    Electricity  1000 Hakaniemen kauppahalli   0.07  kWh\n",
      "2020-01-01 04:00:00    Electricity  1000 Hakaniemen kauppahalli   0.06  kWh\n"
     ]
    }
   ],
   "source": [
    "import pandas as pd\n",
    "\n",
    "# Generate the full range of expected hourly timestamps\n",
    "full_range = pd.date_range(start=k_df.index.min(), end=k_df.index.max(), freq=\"H\")\n",
    "\n",
    "# Find the missing timestamps\n",
    "missing_timestamps = full_range.difference(k_df.index)\n",
    "\n",
    "# Display missing timestamps\n",
    "if missing_timestamps.empty:\n",
    "    print(\"No missing hourly data.\")\n",
    "else:\n",
    "    print(f\"Number of missing timestamps: {len(missing_timestamps)}\")\n",
    "    print(\"Missing hourly timestamps:\")\n",
    "    print(missing_timestamps)\n",
    "\n",
    "# Create a DataFrame for the missing timestamps with placeholder values\n",
    "missing_df = pd.DataFrame(index=missing_timestamps)\n",
    "missing_df['reportingGroup'] = 'Electricity'  # Default value\n",
    "missing_df['locationName'] = '1000 Hakaniemen kauppahalli'  # Default value\n",
    "missing_df['value'] = 0  # Default value for missing data\n",
    "missing_df['unit'] = 'kWh'  # Default unit\n",
    "\n",
    "# Concatenate the original DataFrame with the missing timestamps DataFrame\n",
    "k_df = pd.concat([k_df, missing_df])\n",
    "\n",
    "# Ensure the combined DataFrame is sorted by the index\n",
    "k_df = k_df.sort_index()\n",
    "\n",
    "# Display the updated DataFrame\n",
    "print(k_df.head())\n"
   ]
  },
  {
   "cell_type": "code",
   "execution_count": 164,
   "id": "ebdbc1f1-1c83-433e-a2c0-eb934079a155",
   "metadata": {},
   "outputs": [
    {
     "name": "stdout",
     "output_type": "stream",
     "text": [
      "No missing hourly data.\n"
     ]
    }
   ],
   "source": [
    "import pandas as pd\n",
    "\n",
    "# Ensure the index is a DatetimeIndex\n",
    "k_df.index = pd.to_datetime(k_df.index)\n",
    "\n",
    "# Generate the full range of expected hourly timestamps\n",
    "full_range = pd.date_range(start=k_df.index.min(), end=k_df.index.max(), freq=\"H\")\n",
    "\n",
    "# Find the missing timestamps\n",
    "missing_timestamps = full_range.difference(k_df.index)\n",
    "\n",
    "# Display missing timestamps\n",
    "if missing_timestamps.empty:\n",
    "    print(\"No missing hourly data.\")\n",
    "else:\n",
    "    print(f\"Number of missing timestamps: {len(missing_timestamps)}\")\n",
    "    print(\"Missing hourly timestamps:\")\n",
    "    print(missing_timestamps)\n"
   ]
  },
  {
   "cell_type": "code",
   "execution_count": 166,
   "id": "02b3f8f4-35c7-4088-abc3-25d283d07840",
   "metadata": {},
   "outputs": [
    {
     "data": {
      "text/html": [
       "<div>\n",
       "<style scoped>\n",
       "    .dataframe tbody tr th:only-of-type {\n",
       "        vertical-align: middle;\n",
       "    }\n",
       "\n",
       "    .dataframe tbody tr th {\n",
       "        vertical-align: top;\n",
       "    }\n",
       "\n",
       "    .dataframe thead th {\n",
       "        text-align: right;\n",
       "    }\n",
       "</style>\n",
       "<table border=\"1\" class=\"dataframe\">\n",
       "  <thead>\n",
       "    <tr style=\"text-align: right;\">\n",
       "      <th></th>\n",
       "      <th>reportingGroup</th>\n",
       "      <th>locationName</th>\n",
       "      <th>value</th>\n",
       "      <th>unit</th>\n",
       "    </tr>\n",
       "  </thead>\n",
       "  <tbody>\n",
       "    <tr>\n",
       "      <th>2024-10-30 20:00:00</th>\n",
       "      <td>Electricity</td>\n",
       "      <td>1000 Hakaniemen kauppahalli</td>\n",
       "      <td>0.03</td>\n",
       "      <td>kWh</td>\n",
       "    </tr>\n",
       "    <tr>\n",
       "      <th>2024-10-30 21:00:00</th>\n",
       "      <td>Electricity</td>\n",
       "      <td>1000 Hakaniemen kauppahalli</td>\n",
       "      <td>0.03</td>\n",
       "      <td>kWh</td>\n",
       "    </tr>\n",
       "    <tr>\n",
       "      <th>2024-10-30 22:00:00</th>\n",
       "      <td>Electricity</td>\n",
       "      <td>1000 Hakaniemen kauppahalli</td>\n",
       "      <td>0.02</td>\n",
       "      <td>kWh</td>\n",
       "    </tr>\n",
       "    <tr>\n",
       "      <th>2024-10-30 23:00:00</th>\n",
       "      <td>Electricity</td>\n",
       "      <td>1000 Hakaniemen kauppahalli</td>\n",
       "      <td>0.04</td>\n",
       "      <td>kWh</td>\n",
       "    </tr>\n",
       "    <tr>\n",
       "      <th>2024-10-31 00:00:00</th>\n",
       "      <td>Electricity</td>\n",
       "      <td>1000 Hakaniemen kauppahalli</td>\n",
       "      <td>0.02</td>\n",
       "      <td>kWh</td>\n",
       "    </tr>\n",
       "  </tbody>\n",
       "</table>\n",
       "</div>"
      ],
      "text/plain": [
       "                    reportingGroup                 locationName  value unit\n",
       "2024-10-30 20:00:00    Electricity  1000 Hakaniemen kauppahalli   0.03  kWh\n",
       "2024-10-30 21:00:00    Electricity  1000 Hakaniemen kauppahalli   0.03  kWh\n",
       "2024-10-30 22:00:00    Electricity  1000 Hakaniemen kauppahalli   0.02  kWh\n",
       "2024-10-30 23:00:00    Electricity  1000 Hakaniemen kauppahalli   0.04  kWh\n",
       "2024-10-31 00:00:00    Electricity  1000 Hakaniemen kauppahalli   0.02  kWh"
      ]
     },
     "execution_count": 166,
     "metadata": {},
     "output_type": "execute_result"
    }
   ],
   "source": [
    "k_df.tail(5)"
   ]
  },
  {
   "cell_type": "code",
   "execution_count": 167,
   "id": "665bb68d-e149-4c81-8584-744804684cf6",
   "metadata": {},
   "outputs": [],
   "source": [
    "\n",
    "\n",
    "# Select only the 'value' column for forecasting\n",
    "k_df_for_forecasting = k_df[['value']]\n",
    "k_df_for_forecasting['unique_id'] = 1\n",
    "\n",
    "# Prepare the data for StatsForecast: convert DataFrame to the required format\n",
    "df_for_statsforecast = pd.DataFrame({\n",
    "    'ds': k_df_for_forecasting.index,  # Timestamps as 'ds'\n",
    "    'y': k_df_for_forecasting['value'],  # The actual data as 'y'\n",
    "    'unique_id': k_df_for_forecasting['unique_id']  # The unique identifier\n",
    "\n",
    "})"
   ]
  },
  {
   "cell_type": "code",
   "execution_count": 168,
   "id": "831db068-368d-4e40-81c0-0168b128e506",
   "metadata": {},
   "outputs": [
    {
     "data": {
      "text/html": [
       "<div>\n",
       "<style scoped>\n",
       "    .dataframe tbody tr th:only-of-type {\n",
       "        vertical-align: middle;\n",
       "    }\n",
       "\n",
       "    .dataframe tbody tr th {\n",
       "        vertical-align: top;\n",
       "    }\n",
       "\n",
       "    .dataframe thead th {\n",
       "        text-align: right;\n",
       "    }\n",
       "</style>\n",
       "<table border=\"1\" class=\"dataframe\">\n",
       "  <thead>\n",
       "    <tr style=\"text-align: right;\">\n",
       "      <th></th>\n",
       "      <th>ds</th>\n",
       "      <th>y</th>\n",
       "      <th>unique_id</th>\n",
       "    </tr>\n",
       "  </thead>\n",
       "  <tbody>\n",
       "    <tr>\n",
       "      <th>2020-01-01 00:00:00</th>\n",
       "      <td>2020-01-01 00:00:00</td>\n",
       "      <td>0.06</td>\n",
       "      <td>1</td>\n",
       "    </tr>\n",
       "    <tr>\n",
       "      <th>2020-01-01 01:00:00</th>\n",
       "      <td>2020-01-01 01:00:00</td>\n",
       "      <td>0.06</td>\n",
       "      <td>1</td>\n",
       "    </tr>\n",
       "    <tr>\n",
       "      <th>2020-01-01 02:00:00</th>\n",
       "      <td>2020-01-01 02:00:00</td>\n",
       "      <td>0.06</td>\n",
       "      <td>1</td>\n",
       "    </tr>\n",
       "    <tr>\n",
       "      <th>2020-01-01 03:00:00</th>\n",
       "      <td>2020-01-01 03:00:00</td>\n",
       "      <td>0.07</td>\n",
       "      <td>1</td>\n",
       "    </tr>\n",
       "    <tr>\n",
       "      <th>2020-01-01 04:00:00</th>\n",
       "      <td>2020-01-01 04:00:00</td>\n",
       "      <td>0.06</td>\n",
       "      <td>1</td>\n",
       "    </tr>\n",
       "  </tbody>\n",
       "</table>\n",
       "</div>"
      ],
      "text/plain": [
       "                                     ds     y  unique_id\n",
       "2020-01-01 00:00:00 2020-01-01 00:00:00  0.06          1\n",
       "2020-01-01 01:00:00 2020-01-01 01:00:00  0.06          1\n",
       "2020-01-01 02:00:00 2020-01-01 02:00:00  0.06          1\n",
       "2020-01-01 03:00:00 2020-01-01 03:00:00  0.07          1\n",
       "2020-01-01 04:00:00 2020-01-01 04:00:00  0.06          1"
      ]
     },
     "execution_count": 168,
     "metadata": {},
     "output_type": "execute_result"
    }
   ],
   "source": [
    "df_for_statsforecast.head()"
   ]
  },
  {
   "cell_type": "code",
   "execution_count": 169,
   "id": "b45a6422-2ff2-458d-b60d-89534f655f9a",
   "metadata": {},
   "outputs": [],
   "source": [
    "train_end_date = '2024-08-31 23:00:00'\n",
    "test_start_date = '2024-09-01 00:00:00'\n",
    "test_end_date = '2024-09-30 23:59:59'\n",
    "validation_start_date = '2024-10-01 00:00:00'"
   ]
  },
  {
   "cell_type": "code",
   "execution_count": 170,
   "id": "6fee9e10-1223-4805-bd5c-0c183fc52310",
   "metadata": {},
   "outputs": [],
   "source": [
    "train_data = df_for_statsforecast[df_for_statsforecast['ds'] <= train_end_date]\n",
    "test_data = df_for_statsforecast[(df_for_statsforecast['ds'] >= test_start_date) & (df_for_statsforecast['ds'] <= test_end_date)]\n",
    "validation_data = df_for_statsforecast[df_for_statsforecast['ds'] >= validation_start_date]"
   ]
  },
  {
   "cell_type": "code",
   "execution_count": 171,
   "id": "04d93d66-7e4d-45ba-904f-70aabb162b91",
   "metadata": {},
   "outputs": [
    {
     "data": {
      "text/html": [
       "<div>\n",
       "<style scoped>\n",
       "    .dataframe tbody tr th:only-of-type {\n",
       "        vertical-align: middle;\n",
       "    }\n",
       "\n",
       "    .dataframe tbody tr th {\n",
       "        vertical-align: top;\n",
       "    }\n",
       "\n",
       "    .dataframe thead th {\n",
       "        text-align: right;\n",
       "    }\n",
       "</style>\n",
       "<table border=\"1\" class=\"dataframe\">\n",
       "  <thead>\n",
       "    <tr style=\"text-align: right;\">\n",
       "      <th></th>\n",
       "      <th>ds</th>\n",
       "      <th>y</th>\n",
       "      <th>unique_id</th>\n",
       "    </tr>\n",
       "  </thead>\n",
       "  <tbody>\n",
       "    <tr>\n",
       "      <th>2024-08-31 19:00:00</th>\n",
       "      <td>2024-08-31 19:00:00</td>\n",
       "      <td>0.03</td>\n",
       "      <td>1</td>\n",
       "    </tr>\n",
       "    <tr>\n",
       "      <th>2024-08-31 20:00:00</th>\n",
       "      <td>2024-08-31 20:00:00</td>\n",
       "      <td>0.03</td>\n",
       "      <td>1</td>\n",
       "    </tr>\n",
       "    <tr>\n",
       "      <th>2024-08-31 21:00:00</th>\n",
       "      <td>2024-08-31 21:00:00</td>\n",
       "      <td>0.33</td>\n",
       "      <td>1</td>\n",
       "    </tr>\n",
       "    <tr>\n",
       "      <th>2024-08-31 22:00:00</th>\n",
       "      <td>2024-08-31 22:00:00</td>\n",
       "      <td>0.86</td>\n",
       "      <td>1</td>\n",
       "    </tr>\n",
       "    <tr>\n",
       "      <th>2024-08-31 23:00:00</th>\n",
       "      <td>2024-08-31 23:00:00</td>\n",
       "      <td>0.72</td>\n",
       "      <td>1</td>\n",
       "    </tr>\n",
       "  </tbody>\n",
       "</table>\n",
       "</div>"
      ],
      "text/plain": [
       "                                     ds     y  unique_id\n",
       "2024-08-31 19:00:00 2024-08-31 19:00:00  0.03          1\n",
       "2024-08-31 20:00:00 2024-08-31 20:00:00  0.03          1\n",
       "2024-08-31 21:00:00 2024-08-31 21:00:00  0.33          1\n",
       "2024-08-31 22:00:00 2024-08-31 22:00:00  0.86          1\n",
       "2024-08-31 23:00:00 2024-08-31 23:00:00  0.72          1"
      ]
     },
     "execution_count": 171,
     "metadata": {},
     "output_type": "execute_result"
    }
   ],
   "source": [
    "train_data.tail()"
   ]
  },
  {
   "cell_type": "code",
   "execution_count": 172,
   "id": "d596ee0d-902a-4c38-9e6a-b5a293bb13e8",
   "metadata": {},
   "outputs": [
    {
     "data": {
      "text/plain": [
       "StatsForecast(models=[AutoARIMA])"
      ]
     },
     "execution_count": 172,
     "metadata": {},
     "output_type": "execute_result"
    }
   ],
   "source": [
    "from statsforecast import StatsForecast\n",
    "from statsforecast.models import AutoARIMA\n",
    "import pandas as pd\n",
    "import matplotlib.pyplot as plt\n",
    "\n",
    "model = StatsForecast(\n",
    "    models=[AutoARIMA()],\n",
    "    freq=\"H\",  # Frequency of the data (hourly)\n",
    ")\n",
    "\n",
    "# Fit the model on the training data\n",
    "model.fit(train_data)"
   ]
  },
  {
   "cell_type": "code",
   "execution_count": 173,
   "id": "84512800-730b-4a4c-a63c-b9f8e6226462",
   "metadata": {},
   "outputs": [],
   "source": [
    "forecast_horizon = len(test_data)\n",
    "forecast = model.forecast(df=test_data, h=forecast_horizon)"
   ]
  },
  {
   "cell_type": "code",
   "execution_count": 176,
   "id": "aa47d633-615d-4bcd-9bd8-618cf8c21d6d",
   "metadata": {},
   "outputs": [
    {
     "data": {
      "text/html": [
       "<div>\n",
       "<style scoped>\n",
       "    .dataframe tbody tr th:only-of-type {\n",
       "        vertical-align: middle;\n",
       "    }\n",
       "\n",
       "    .dataframe tbody tr th {\n",
       "        vertical-align: top;\n",
       "    }\n",
       "\n",
       "    .dataframe thead th {\n",
       "        text-align: right;\n",
       "    }\n",
       "</style>\n",
       "<table border=\"1\" class=\"dataframe\">\n",
       "  <thead>\n",
       "    <tr style=\"text-align: right;\">\n",
       "      <th></th>\n",
       "      <th>unique_id</th>\n",
       "      <th>ds</th>\n",
       "      <th>AutoARIMA</th>\n",
       "    </tr>\n",
       "  </thead>\n",
       "  <tbody>\n",
       "    <tr>\n",
       "      <th>0</th>\n",
       "      <td>1</td>\n",
       "      <td>2024-10-01 00:00:00</td>\n",
       "      <td>0.405837</td>\n",
       "    </tr>\n",
       "    <tr>\n",
       "      <th>1</th>\n",
       "      <td>1</td>\n",
       "      <td>2024-10-01 01:00:00</td>\n",
       "      <td>0.748748</td>\n",
       "    </tr>\n",
       "    <tr>\n",
       "      <th>2</th>\n",
       "      <td>1</td>\n",
       "      <td>2024-10-01 02:00:00</td>\n",
       "      <td>1.031137</td>\n",
       "    </tr>\n",
       "    <tr>\n",
       "      <th>3</th>\n",
       "      <td>1</td>\n",
       "      <td>2024-10-01 03:00:00</td>\n",
       "      <td>1.291123</td>\n",
       "    </tr>\n",
       "    <tr>\n",
       "      <th>4</th>\n",
       "      <td>1</td>\n",
       "      <td>2024-10-01 04:00:00</td>\n",
       "      <td>1.514720</td>\n",
       "    </tr>\n",
       "    <tr>\n",
       "      <th>...</th>\n",
       "      <td>...</td>\n",
       "      <td>...</td>\n",
       "      <td>...</td>\n",
       "    </tr>\n",
       "    <tr>\n",
       "      <th>715</th>\n",
       "      <td>1</td>\n",
       "      <td>2024-10-30 19:00:00</td>\n",
       "      <td>1.229047</td>\n",
       "    </tr>\n",
       "    <tr>\n",
       "      <th>716</th>\n",
       "      <td>1</td>\n",
       "      <td>2024-10-30 20:00:00</td>\n",
       "      <td>1.229047</td>\n",
       "    </tr>\n",
       "    <tr>\n",
       "      <th>717</th>\n",
       "      <td>1</td>\n",
       "      <td>2024-10-30 21:00:00</td>\n",
       "      <td>1.229047</td>\n",
       "    </tr>\n",
       "    <tr>\n",
       "      <th>718</th>\n",
       "      <td>1</td>\n",
       "      <td>2024-10-30 22:00:00</td>\n",
       "      <td>1.229047</td>\n",
       "    </tr>\n",
       "    <tr>\n",
       "      <th>719</th>\n",
       "      <td>1</td>\n",
       "      <td>2024-10-30 23:00:00</td>\n",
       "      <td>1.229047</td>\n",
       "    </tr>\n",
       "  </tbody>\n",
       "</table>\n",
       "<p>720 rows × 3 columns</p>\n",
       "</div>"
      ],
      "text/plain": [
       "     unique_id                  ds  AutoARIMA\n",
       "0            1 2024-10-01 00:00:00   0.405837\n",
       "1            1 2024-10-01 01:00:00   0.748748\n",
       "2            1 2024-10-01 02:00:00   1.031137\n",
       "3            1 2024-10-01 03:00:00   1.291123\n",
       "4            1 2024-10-01 04:00:00   1.514720\n",
       "..         ...                 ...        ...\n",
       "715          1 2024-10-30 19:00:00   1.229047\n",
       "716          1 2024-10-30 20:00:00   1.229047\n",
       "717          1 2024-10-30 21:00:00   1.229047\n",
       "718          1 2024-10-30 22:00:00   1.229047\n",
       "719          1 2024-10-30 23:00:00   1.229047\n",
       "\n",
       "[720 rows x 3 columns]"
      ]
     },
     "execution_count": 176,
     "metadata": {},
     "output_type": "execute_result"
    }
   ],
   "source": [
    "forecast"
   ]
  },
  {
   "cell_type": "code",
   "execution_count": 179,
   "id": "3646221b-d53f-4055-91b1-aab1679404da",
   "metadata": {},
   "outputs": [],
   "source": [
    "forecast_df = pd.DataFrame(forecast, columns=['ds', 'AutoARIMA'], index=test_data.index)"
   ]
  },
  {
   "cell_type": "code",
   "execution_count": 180,
   "id": "1bd9bebb-9d75-4582-bbfe-a27729d9856c",
   "metadata": {},
   "outputs": [
    {
     "data": {
      "text/html": [
       "<div>\n",
       "<style scoped>\n",
       "    .dataframe tbody tr th:only-of-type {\n",
       "        vertical-align: middle;\n",
       "    }\n",
       "\n",
       "    .dataframe tbody tr th {\n",
       "        vertical-align: top;\n",
       "    }\n",
       "\n",
       "    .dataframe thead th {\n",
       "        text-align: right;\n",
       "    }\n",
       "</style>\n",
       "<table border=\"1\" class=\"dataframe\">\n",
       "  <thead>\n",
       "    <tr style=\"text-align: right;\">\n",
       "      <th></th>\n",
       "      <th>ds</th>\n",
       "      <th>AutoARIMA</th>\n",
       "    </tr>\n",
       "  </thead>\n",
       "  <tbody>\n",
       "    <tr>\n",
       "      <th>2024-09-01 00:00:00</th>\n",
       "      <td>NaT</td>\n",
       "      <td>NaN</td>\n",
       "    </tr>\n",
       "    <tr>\n",
       "      <th>2024-09-01 01:00:00</th>\n",
       "      <td>NaT</td>\n",
       "      <td>NaN</td>\n",
       "    </tr>\n",
       "    <tr>\n",
       "      <th>2024-09-01 02:00:00</th>\n",
       "      <td>NaT</td>\n",
       "      <td>NaN</td>\n",
       "    </tr>\n",
       "    <tr>\n",
       "      <th>2024-09-01 03:00:00</th>\n",
       "      <td>NaT</td>\n",
       "      <td>NaN</td>\n",
       "    </tr>\n",
       "    <tr>\n",
       "      <th>2024-09-01 04:00:00</th>\n",
       "      <td>NaT</td>\n",
       "      <td>NaN</td>\n",
       "    </tr>\n",
       "  </tbody>\n",
       "</table>\n",
       "</div>"
      ],
      "text/plain": [
       "                     ds  AutoARIMA\n",
       "2024-09-01 00:00:00 NaT        NaN\n",
       "2024-09-01 01:00:00 NaT        NaN\n",
       "2024-09-01 02:00:00 NaT        NaN\n",
       "2024-09-01 03:00:00 NaT        NaN\n",
       "2024-09-01 04:00:00 NaT        NaN"
      ]
     },
     "execution_count": 180,
     "metadata": {},
     "output_type": "execute_result"
    }
   ],
   "source": [
    "forecast_df.head()"
   ]
  },
  {
   "cell_type": "code",
   "execution_count": 181,
   "id": "f255fc0f-2fb0-4a20-96f3-fd9ac9088fb7",
   "metadata": {},
   "outputs": [],
   "source": [
    "y_true = test_data['y']\n",
    "y_pred = forecast['AutoARIMA']"
   ]
  },
  {
   "cell_type": "code",
   "execution_count": 183,
   "id": "f68e3dee-9f5c-4635-8c37-f40b57cbee06",
   "metadata": {},
   "outputs": [
    {
     "data": {
      "text/plain": [
       "2024-09-01 00:00:00    0.68\n",
       "2024-09-01 01:00:00    0.69\n",
       "2024-09-01 02:00:00    0.74\n",
       "2024-09-01 03:00:00    0.84\n",
       "2024-09-01 04:00:00    1.30\n",
       "                       ... \n",
       "2024-09-30 19:00:00    0.04\n",
       "2024-09-30 20:00:00    0.04\n",
       "2024-09-30 21:00:00    0.02\n",
       "2024-09-30 22:00:00    0.05\n",
       "2024-09-30 23:00:00    0.03\n",
       "Name: y, Length: 720, dtype: float64"
      ]
     },
     "execution_count": 183,
     "metadata": {},
     "output_type": "execute_result"
    }
   ],
   "source": [
    "y_true"
   ]
  },
  {
   "cell_type": "code",
   "execution_count": 184,
   "id": "7c7bd21e-381b-4f37-8d41-9451b677929d",
   "metadata": {},
   "outputs": [
    {
     "name": "stdout",
     "output_type": "stream",
     "text": [
      "Mean Squared Error (MSE): 4.030008915718348\n",
      "Root Mean Squared Error (RMSE): 2.0074882106050707\n"
     ]
    }
   ],
   "source": [
    "mse = mean_squared_error(y_true, y_pred)\n",
    "rmse = np.sqrt(mse)\n",
    "\n",
    "print(f\"Mean Squared Error (MSE): {mse}\")\n",
    "print(f\"Root Mean Squared Error (RMSE): {rmse}\")"
   ]
  },
  {
   "cell_type": "code",
   "execution_count": 74,
   "id": "7abebd39-ecfc-435f-948c-8bbc9f2529a6",
   "metadata": {},
   "outputs": [],
   "source": [
    "test_data = df_for_statsforecast[(df_for_statsforecast['ds'] >= test_start_date) & (df_for_statsforecast['ds'] <= test_end_date)]\n"
   ]
  },
  {
   "cell_type": "code",
   "execution_count": 185,
   "id": "c5fbbfe8-0319-4024-8d9e-9527d010a39b",
   "metadata": {},
   "outputs": [],
   "source": [
    "nan_count = forecast['AutoARIMA'].isna().sum()"
   ]
  },
  {
   "cell_type": "code",
   "execution_count": 186,
   "id": "9491ed0f-6c67-4b7f-aa80-62b67b16350b",
   "metadata": {},
   "outputs": [
    {
     "name": "stdout",
     "output_type": "stream",
     "text": [
      "0\n"
     ]
    }
   ],
   "source": [
    "print(nan_count)"
   ]
  },
  {
   "cell_type": "code",
   "execution_count": 187,
   "id": "c69523fc-a7e8-48b8-bcb4-6c04af188148",
   "metadata": {},
   "outputs": [
    {
     "data": {
      "image/png": "[encoded data removed]",
      "text/plain": [
       "<Figure size 1200x600 with 1 Axes>"
      ]
     },
     "metadata": {},
     "output_type": "display_data"
    }
   ],
   "source": [
    "\n",
    "y_true = test_data['y']\n",
    "y_pred = forecast['AutoARIMA']\n",
    "\n",
    "    # Plotting the actual versus predicted data\n",
    "plt.figure(figsize=(12, 6))\n",
    "\n",
    "    # Plot actual values (test data)\n",
    "plt.plot(test_data['ds'], y_true, label='Actual Data', color='blue', linewidth=2)\n",
    "\n",
    "    # Plot predicted values (forecasted data)\n",
    "plt.plot(forecast_df.index, forecast['AutoARIMA'], label='Predicted Data', color='red', linestyle='--', linewidth=2)\n",
    "\n",
    "    # Adding title and labels\n",
    "plt.title(\"Actual vs Predicted Data (Test Set)\", fontsize=16)\n",
    "plt.xlabel(\"Timestamp\", fontsize=12)\n",
    "plt.ylabel(\"Value\", fontsize=12)\n",
    "\n",
    "    # Rotate x-axis labels for better readability\n",
    "plt.xticks(rotation=45)\n",
    "\n",
    "    # Adding a legend\n",
    "plt.legend()\n",
    "\n",
    "    # Show the plot\n",
    "plt.tight_layout()\n",
    "plt.show()\n",
    "\n"
   ]
  },
  {
   "cell_type": "code",
   "execution_count": null,
   "id": "cd77a400-06b0-4917-947f-78a3dddb9e24",
   "metadata": {},
   "outputs": [],
   "source": []
  }
 ],
 "metadata": {
  "kernelspec": {
   "display_name": "EnergyEV",
   "language": "python",
   "name": "energyev"
  },
  "language_info": {
   "codemirror_mode": {
    "name": "ipython",
    "version": 3
   },
   "file_extension": ".py",
   "mimetype": "text/x-python",
   "name": "python",
   "nbconvert_exporter": "python",
   "pygments_lexer": "ipython3",
   "version": "3.12.0"
  }
 },
 "nbformat": 4,
 "nbformat_minor": 5
}
