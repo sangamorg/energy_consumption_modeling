{
 "cells": [
  {
   "cell_type": "code",
   "execution_count": null,
   "id": "82b71424-ac9a-447f-8ddb-8d4c75645dd6",
   "metadata": {},
   "outputs": [],
   "source": [
    "## asynchronously pull the electricity consumption data from 2020-02-02 to 2024-10-31\n",
    "## Idea is to create a predective model for a day or two from the available dataset\n",
    "## try to include all the locations and save the data into cloud and model it."
   ]
  },
  {
   "cell_type": "code",
   "execution_count": 3,
   "id": "d5846e3f-3eca-4670-b5eb-c2113444ca94",
   "metadata": {},
   "outputs": [
    {
     "name": "stdout",
     "output_type": "stream",
     "text": [
      "Collecting requests\n",
      "  Downloading requests-2.32.3-py3-none-any.whl.metadata (4.6 kB)\n",
      "Collecting charset-normalizer<4,>=2 (from requests)\n",
      "  Downloading charset_normalizer-3.4.0-cp313-cp313-win_amd64.whl.metadata (34 kB)\n",
      "Collecting idna<4,>=2.5 (from requests)\n",
      "  Downloading idna-3.10-py3-none-any.whl.metadata (10 kB)\n",
      "Collecting urllib3<3,>=1.21.1 (from requests)\n",
      "  Downloading urllib3-2.2.3-py3-none-any.whl.metadata (6.5 kB)\n",
      "Collecting certifi>=2017.4.17 (from requests)\n",
      "  Downloading certifi-2024.8.30-py3-none-any.whl.metadata (2.2 kB)\n",
      "Downloading requests-2.32.3-py3-none-any.whl (64 kB)\n",
      "Downloading certifi-2024.8.30-py3-none-any.whl (167 kB)\n",
      "Downloading charset_normalizer-3.4.0-cp313-cp313-win_amd64.whl (102 kB)\n",
      "Downloading idna-3.10-py3-none-any.whl (70 kB)\n",
      "Downloading urllib3-2.2.3-py3-none-any.whl (126 kB)\n",
      "Installing collected packages: urllib3, idna, charset-normalizer, certifi, requests\n",
      "Successfully installed certifi-2024.8.30 charset-normalizer-3.4.0 idna-3.10 requests-2.32.3 urllib3-2.2.3\n"
     ]
    },
    {
     "name": "stderr",
     "output_type": "stream",
     "text": [
      "\n",
      "[notice] A new release of pip is available: 24.2 -> 24.3.1\n",
      "[notice] To update, run: python.exe -m pip install --upgrade pip\n"
     ]
    }
   ],
   "source": [
    "!pip install requests"
   ]
  },
  {
   "cell_type": "code",
   "execution_count": 4,
   "id": "81799b50-c031-472b-8cfc-cfe3f743ec74",
   "metadata": {},
   "outputs": [],
   "source": [
    "import warnings\n",
    "warnings.filterwarnings('ignore')"
   ]
  },
  {
   "cell_type": "code",
   "execution_count": 17,
   "id": "efd8fdde-7929-4d5b-85f8-5682217d510b",
   "metadata": {},
   "outputs": [],
   "source": [
    "import os\n",
    "import json\n",
    "import requests\n",
    "location_filepath=\"locations.json\"\n",
    "if not os.path.exists(location_filepath):\n",
    "    with open(location_filepath,\"w\",encoding=\"utf-8\") as file:\n",
    "        response=requests.get(\"https://helsinki-openapi.nuuka.cloud/api/v1.0/Property/List\")\n",
    "        data=response.text\n",
    "        json.dump(data,file)"
   ]
  },
  {
   "cell_type": "code",
   "execution_count": 18,
   "id": "4a066f18-d55a-4e13-a41b-f9dd162284d5",
   "metadata": {},
   "outputs": [
    {
     "name": "stdout",
     "output_type": "stream",
     "text": [
      "Collecting pandas\n",
      "  Downloading pandas-2.2.3-cp313-cp313-win_amd64.whl.metadata (19 kB)\n",
      "Collecting numpy>=1.26.0 (from pandas)\n",
      "  Downloading numpy-2.1.3-cp313-cp313-win_amd64.whl.metadata (60 kB)\n",
      "Requirement already satisfied: python-dateutil>=2.8.2 in c:\\users\\35841\\desktop\\energy_consumption_modeling\\energyev\\lib\\site-packages (from pandas) (2.9.0.post0)\n",
      "Collecting pytz>=2020.1 (from pandas)\n",
      "  Downloading pytz-2024.2-py2.py3-none-any.whl.metadata (22 kB)\n",
      "Collecting tzdata>=2022.7 (from pandas)\n",
      "  Downloading tzdata-2024.2-py2.py3-none-any.whl.metadata (1.4 kB)\n",
      "Requirement already satisfied: six>=1.5 in c:\\users\\35841\\desktop\\energy_consumption_modeling\\energyev\\lib\\site-packages (from python-dateutil>=2.8.2->pandas) (1.16.0)\n",
      "Downloading pandas-2.2.3-cp313-cp313-win_amd64.whl (11.5 MB)\n",
      "   ---------------------------------------- 0.0/11.5 MB ? eta -:--:--\n",
      "   -- ------------------------------------- 0.8/11.5 MB 4.9 MB/s eta 0:00:03\n",
      "   --- ------------------------------------ 1.0/11.5 MB 5.4 MB/s eta 0:00:02\n",
      "   ----- ---------------------------------- 1.6/11.5 MB 2.9 MB/s eta 0:00:04\n",
      "   ------- -------------------------------- 2.1/11.5 MB 2.4 MB/s eta 0:00:04\n",
      "   ---------- ----------------------------- 2.9/11.5 MB 2.8 MB/s eta 0:00:04\n",
      "   ---------- ----------------------------- 3.1/11.5 MB 2.8 MB/s eta 0:00:04\n",
      "   ----------- ---------------------------- 3.4/11.5 MB 2.6 MB/s eta 0:00:04\n",
      "   ------------- -------------------------- 3.9/11.5 MB 2.3 MB/s eta 0:00:04\n",
      "   -------------- ------------------------- 4.2/11.5 MB 2.2 MB/s eta 0:00:04\n",
      "   ---------------- ----------------------- 4.7/11.5 MB 2.3 MB/s eta 0:00:03\n",
      "   -------------------- ------------------- 5.8/11.5 MB 2.5 MB/s eta 0:00:03\n",
      "   --------------------- ------------------ 6.0/11.5 MB 2.5 MB/s eta 0:00:03\n",
      "   --------------------- ------------------ 6.3/11.5 MB 2.4 MB/s eta 0:00:03\n",
      "   ------------------------ --------------- 7.1/11.5 MB 2.4 MB/s eta 0:00:02\n",
      "   -------------------------- ------------- 7.6/11.5 MB 2.4 MB/s eta 0:00:02\n",
      "   ------------------------------- -------- 8.9/11.5 MB 2.6 MB/s eta 0:00:01\n",
      "   ------------------------------------ --- 10.5/11.5 MB 2.9 MB/s eta 0:00:01\n",
      "   ---------------------------------------- 11.5/11.5 MB 3.0 MB/s eta 0:00:00\n",
      "Downloading numpy-2.1.3-cp313-cp313-win_amd64.whl (12.6 MB)\n",
      "   ---------------------------------------- 0.0/12.6 MB ? eta -:--:--\n",
      "   ----- ---------------------------------- 1.6/12.6 MB 7.5 MB/s eta 0:00:02\n",
      "   --------- ------------------------------ 2.9/12.6 MB 7.0 MB/s eta 0:00:02\n",
      "   -------------- ------------------------- 4.5/12.6 MB 7.0 MB/s eta 0:00:02\n",
      "   ---------------- ----------------------- 5.2/12.6 MB 6.7 MB/s eta 0:00:02\n",
      "   ---------------------- ----------------- 7.1/12.6 MB 6.8 MB/s eta 0:00:01\n",
      "   ---------------------------- ----------- 8.9/12.6 MB 7.1 MB/s eta 0:00:01\n",
      "   -------------------------------- ------- 10.2/12.6 MB 7.0 MB/s eta 0:00:01\n",
      "   ------------------------------------- -- 11.8/12.6 MB 7.1 MB/s eta 0:00:01\n",
      "   ---------------------------------------- 12.6/12.6 MB 7.0 MB/s eta 0:00:00\n",
      "Downloading pytz-2024.2-py2.py3-none-any.whl (508 kB)\n",
      "Downloading tzdata-2024.2-py2.py3-none-any.whl (346 kB)\n",
      "Installing collected packages: pytz, tzdata, numpy, pandas\n",
      "Successfully installed numpy-2.1.3 pandas-2.2.3 pytz-2024.2 tzdata-2024.2\n"
     ]
    },
    {
     "name": "stderr",
     "output_type": "stream",
     "text": [
      "\n",
      "[notice] A new release of pip is available: 24.2 -> 24.3.1\n",
      "[notice] To update, run: python.exe -m pip install --upgrade pip\n"
     ]
    }
   ],
   "source": [
    "!pip install pandas"
   ]
  },
  {
   "cell_type": "code",
   "execution_count": 19,
   "id": "ababb8f0-296b-4feb-9131-58636b1a08dd",
   "metadata": {},
   "outputs": [],
   "source": [
    "import pandas as pd"
   ]
  },
  {
   "cell_type": "code",
   "execution_count": 23,
   "id": "d8112282-b576-4106-b2f7-22ae67fc3193",
   "metadata": {},
   "outputs": [],
   "source": [
    "with open(location_filepath, \"r\", encoding=\"utf-8\") as file:\n",
    "    # Load the stringified JSON array\n",
    "    json_content = file.read()\n",
    "    # Parse the string into a Python object\n",
    "    data = json.loads(json_content)\n",
    "    data=json.loads(data)\n",
    "\n",
    "# Create a pandas DataFrame\n",
    "df = pd.DataFrame(data)"
   ]
  },
  {
   "cell_type": "code",
   "execution_count": 24,
   "id": "b155625e-422b-4a74-9f9c-bbbf48ad7be5",
   "metadata": {},
   "outputs": [
    {
     "data": {
      "text/html": [
       "<div>\n",
       "<style scoped>\n",
       "    .dataframe tbody tr th:only-of-type {\n",
       "        vertical-align: middle;\n",
       "    }\n",
       "\n",
       "    .dataframe tbody tr th {\n",
       "        vertical-align: top;\n",
       "    }\n",
       "\n",
       "    .dataframe thead th {\n",
       "        text-align: right;\n",
       "    }\n",
       "</style>\n",
       "<table border=\"1\" class=\"dataframe\">\n",
       "  <thead>\n",
       "    <tr style=\"text-align: right;\">\n",
       "      <th></th>\n",
       "      <th>locationName</th>\n",
       "      <th>propertyName</th>\n",
       "      <th>propertyCode</th>\n",
       "    </tr>\n",
       "  </thead>\n",
       "  <tbody>\n",
       "    <tr>\n",
       "      <th>0</th>\n",
       "      <td>1000 Hakaniemen kauppahalli</td>\n",
       "      <td>1000 Hakaniemen kauppahalli</td>\n",
       "      <td>091-011-9902-0101</td>\n",
       "    </tr>\n",
       "    <tr>\n",
       "      <th>1</th>\n",
       "      <td>1001 Hietalahden kauppahalli</td>\n",
       "      <td>1001 Hietalahden kauppahalli</td>\n",
       "      <td>091-004-9902-0008</td>\n",
       "    </tr>\n",
       "    <tr>\n",
       "      <th>2</th>\n",
       "      <td>1002 Vanha kauppahalli</td>\n",
       "      <td>1002 Vanha kauppahalli</td>\n",
       "      <td>091-003-9906-0101</td>\n",
       "    </tr>\n",
       "    <tr>\n",
       "      <th>3</th>\n",
       "      <td>1037 Vuotalo</td>\n",
       "      <td>1037 Vuotalo</td>\n",
       "      <td>091-054-0179-0003</td>\n",
       "    </tr>\n",
       "    <tr>\n",
       "      <th>4</th>\n",
       "      <td>1507 Suutarilan monitoimitalo/ala-aste ja Lpk ...</td>\n",
       "      <td>1507 Suutarilan monitoimitalo/ala-aste ja Lpk ...</td>\n",
       "      <td>091-040-0024-0003</td>\n",
       "    </tr>\n",
       "  </tbody>\n",
       "</table>\n",
       "</div>"
      ],
      "text/plain": [
       "                                        locationName  \\\n",
       "0                        1000 Hakaniemen kauppahalli   \n",
       "1                       1001 Hietalahden kauppahalli   \n",
       "2                             1002 Vanha kauppahalli   \n",
       "3                                       1037 Vuotalo   \n",
       "4  1507 Suutarilan monitoimitalo/ala-aste ja Lpk ...   \n",
       "\n",
       "                                        propertyName       propertyCode  \n",
       "0                        1000 Hakaniemen kauppahalli  091-011-9902-0101  \n",
       "1                       1001 Hietalahden kauppahalli  091-004-9902-0008  \n",
       "2                             1002 Vanha kauppahalli  091-003-9906-0101  \n",
       "3                                       1037 Vuotalo  091-054-0179-0003  \n",
       "4  1507 Suutarilan monitoimitalo/ala-aste ja Lpk ...  091-040-0024-0003  "
      ]
     },
     "execution_count": 24,
     "metadata": {},
     "output_type": "execute_result"
    }
   ],
   "source": [
    "df.head()"
   ]
  },
  {
   "cell_type": "code",
   "execution_count": 25,
   "id": "b78f55a3-ae7b-4486-970c-e33fd4222bd3",
   "metadata": {},
   "outputs": [
    {
     "data": {
      "text/plain": [
       "(1545, 3)"
      ]
     },
     "execution_count": 25,
     "metadata": {},
     "output_type": "execute_result"
    }
   ],
   "source": [
    "df.shape"
   ]
  },
  {
   "cell_type": "code",
   "execution_count": 36,
   "id": "b9ada88d-0039-4925-9188-f3e0266bc2ad",
   "metadata": {},
   "outputs": [],
   "source": [
    "LocationName=list(df[\"locationName\"][0:4])"
   ]
  },
  {
   "cell_type": "code",
   "execution_count": 41,
   "id": "d14336e7-2887-4288-9360-bff759ff60b0",
   "metadata": {},
   "outputs": [],
   "source": [
    "dataFileNames = [f\"{item.replace(' ', '_')}.json\" for item in LocationName]"
   ]
  },
  {
   "cell_type": "code",
   "execution_count": 43,
   "id": "b59d5892-9d1d-4ede-8c2d-a1b00f97b5ad",
   "metadata": {},
   "outputs": [],
   "source": [
    "## locationSearchString=[f\"{item.replace(' ', '%20', )}\" for item in LocationName]"
   ]
  },
  {
   "cell_type": "code",
   "execution_count": 44,
   "id": "226b1848-a541-4a86-995c-4ca0155804ea",
   "metadata": {},
   "outputs": [
    {
     "data": {
      "text/plain": [
       "['1000%20Hakaniemen%20kauppahalli',\n",
       " '1001%20Hietalahden%20kauppahalli',\n",
       " '1002%20Vanha%20kauppahalli',\n",
       " '1037%20Vuotalo']"
      ]
     },
     "execution_count": 44,
     "metadata": {},
     "output_type": "execute_result"
    }
   ],
   "source": [
    "## locationSearchString"
   ]
  },
  {
   "cell_type": "code",
   "execution_count": 42,
   "id": "6809b1a8-8be3-4766-bb9f-998199c6ca32",
   "metadata": {},
   "outputs": [
    {
     "data": {
      "text/plain": [
       "['1000_Hakaniemen_kauppahalli.json',\n",
       " '1001_Hietalahden_kauppahalli.json',\n",
       " '1002_Vanha_kauppahalli.json',\n",
       " '1037_Vuotalo.json']"
      ]
     },
     "execution_count": 42,
     "metadata": {},
     "output_type": "execute_result"
    }
   ],
   "source": [
    "dataFileNames"
   ]
  },
  {
   "cell_type": "code",
   "execution_count": 61,
   "id": "de0a77c7-d745-4b81-a63c-e9052de27305",
   "metadata": {},
   "outputs": [],
   "source": [
    "reporting_group=\"Electricity\"\n",
    "start_time=\"2020-01-01\"\n",
    "end_time=\"2024-10-31\"\n",
    "version=\"v1.0\""
   ]
  },
  {
   "cell_type": "code",
   "execution_count": 72,
   "id": "903796d4-37ff-46de-8f13-008450fdead9",
   "metadata": {},
   "outputs": [],
   "source": [
    "BASE_URL = \"https://helsinki-openapi.nuuka.cloud/api/v1.0/EnergyData/Hourly/ListByProperty\"\n",
    "output_dir = \"FourlocationData20200101_20241031\"\n",
    "os.makedirs(output_dir, exist_ok=True)\n"
   ]
  },
  {
   "cell_type": "code",
   "execution_count": 53,
   "id": "2c17145a-3d00-4a1c-ae7a-5729a5bfd6a8",
   "metadata": {},
   "outputs": [
    {
     "name": "stdout",
     "output_type": "stream",
     "text": [
      "Requirement already satisfied: aiohttp[speedups] in c:\\users\\35841\\desktop\\energy_consumption_modeling\\energyev\\lib\\site-packages (3.11.8)\n",
      "Requirement already satisfied: aiohappyeyeballs>=2.3.0 in c:\\users\\35841\\desktop\\energy_consumption_modeling\\energyev\\lib\\site-packages (from aiohttp[speedups]) (2.4.3)\n",
      "Requirement already satisfied: aiosignal>=1.1.2 in c:\\users\\35841\\desktop\\energy_consumption_modeling\\energyev\\lib\\site-packages (from aiohttp[speedups]) (1.3.1)\n",
      "Requirement already satisfied: attrs>=17.3.0 in c:\\users\\35841\\desktop\\energy_consumption_modeling\\energyev\\lib\\site-packages (from aiohttp[speedups]) (24.2.0)\n",
      "Requirement already satisfied: frozenlist>=1.1.1 in c:\\users\\35841\\desktop\\energy_consumption_modeling\\energyev\\lib\\site-packages (from aiohttp[speedups]) (1.5.0)\n",
      "Requirement already satisfied: multidict<7.0,>=4.5 in c:\\users\\35841\\desktop\\energy_consumption_modeling\\energyev\\lib\\site-packages (from aiohttp[speedups]) (6.1.0)\n",
      "Requirement already satisfied: propcache>=0.2.0 in c:\\users\\35841\\desktop\\energy_consumption_modeling\\energyev\\lib\\site-packages (from aiohttp[speedups]) (0.2.0)\n",
      "Requirement already satisfied: yarl<2.0,>=1.17.0 in c:\\users\\35841\\desktop\\energy_consumption_modeling\\energyev\\lib\\site-packages (from aiohttp[speedups]) (1.18.0)\n",
      "Collecting Brotli (from aiohttp[speedups])\n",
      "  Downloading Brotli-1.1.0-cp313-cp313-win_amd64.whl.metadata (5.6 kB)\n",
      "Requirement already satisfied: idna>=2.0 in c:\\users\\35841\\desktop\\energy_consumption_modeling\\energyev\\lib\\site-packages (from yarl<2.0,>=1.17.0->aiohttp[speedups]) (3.10)\n",
      "Downloading Brotli-1.1.0-cp313-cp313-win_amd64.whl (358 kB)\n",
      "Installing collected packages: Brotli\n",
      "Successfully installed Brotli-1.1.0\n"
     ]
    },
    {
     "name": "stderr",
     "output_type": "stream",
     "text": [
      "\n",
      "[notice] A new release of pip is available: 24.2 -> 24.3.1\n",
      "[notice] To update, run: python.exe -m pip install --upgrade pip\n"
     ]
    }
   ],
   "source": [
    "!pip install aiohttp[speedups]\n"
   ]
  },
  {
   "cell_type": "code",
   "execution_count": 54,
   "id": "387c6b6c-f665-40f7-b4e7-011bdc500db0",
   "metadata": {},
   "outputs": [],
   "source": [
    "import aiohttp\n",
    "import asyncio\n",
    "from urllib.parse import quote"
   ]
  },
  {
   "cell_type": "code",
   "execution_count": 63,
   "id": "7c35b452-f05c-4678-908a-153120c46579",
   "metadata": {},
   "outputs": [],
   "source": [
    "async def fetch_data(session, url, filename):\n",
    "    async with session.get(url) as response:\n",
    "        data = await response.json()\n",
    "        with open(filename, 'w', encoding='utf-8') as f:\n",
    "            json.dump(data, f, ensure_ascii=False)\n",
    "        print(f\"Saved data to {filename}\")"
   ]
  },
  {
   "cell_type": "code",
   "execution_count": 69,
   "id": "cf09a5f2-3a20-4814-932b-9ffacf4b4512",
   "metadata": {},
   "outputs": [],
   "source": [
    "global count\n",
    "count=0"
   ]
  },
  {
   "cell_type": "code",
   "execution_count": 73,
   "id": "84f82a95-282c-4341-9eec-c6e2025cfae3",
   "metadata": {},
   "outputs": [
    {
     "name": "stdout",
     "output_type": "stream",
     "text": [
      "Saved data to FourlocationData20200101_20241031\\1000_Hakaniemen_kauppahalli.json\n",
      "Saved data to FourlocationData20200101_20241031\\1001_Hietalahden_kauppahalli.json\n",
      "Saved data to FourlocationData20200101_20241031\\1002_Vanha_kauppahalli.json\n",
      "Saved data to FourlocationData20200101_20241031\\1037_Vuotalo.json\n"
     ]
    }
   ],
   "source": [
    "async def make_requests():\n",
    "    async with aiohttp.ClientSession() as session:\n",
    "        for location in LocationName:\n",
    "            encoded_search_string = quote(location)\n",
    "            url = f\"{BASE_URL}?Record=LocationName&SearchString={encoded_search_string}&ReportingGroup={reporting_group}&StartTime={start_time}&EndTime={end_time}\"\n",
    "            filename = os.path.join(output_dir,f\"{location.replace(' ', '_')}.json\")\n",
    "            await fetch_data(session, url, filename)\n",
    "\n",
    "await make_requests()"
   ]
  },
  {
   "cell_type": "code",
   "execution_count": null,
   "id": "e08d6ba6-3538-4eaf-99cb-1bf00f32a00f",
   "metadata": {},
   "outputs": [],
   "source": []
  }
 ],
 "metadata": {
  "kernelspec": {
   "display_name": "energyEV",
   "language": "python",
   "name": "energyev"
  },
  "language_info": {
   "codemirror_mode": {
    "name": "ipython",
    "version": 3
   },
   "file_extension": ".py",
   "mimetype": "text/x-python",
   "name": "python",
   "nbconvert_exporter": "python",
   "pygments_lexer": "ipython3",
   "version": "3.13.0"
  }
 },
 "nbformat": 4,
 "nbformat_minor": 5
}
